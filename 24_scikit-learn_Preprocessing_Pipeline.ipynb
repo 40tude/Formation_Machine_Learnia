{
 "cells": [
  {
   "cell_type": "markdown",
   "metadata": {},
   "source": [
    "# Data preprocessing\n",
    "\n",
    "* Encodage   : Des données qualitatives en quantitative (homme=1, femme=0)\n",
    "* Normaliser : ramène sur [0, 1 la gamme de toutes les valeurs quantitative\n",
    "* Imputation : Remplace NaN par des valeurs (moyenne de la série par exemple)\n",
    "* Sélection  : Utiliser le X² pour choisir les variables les plus utiles au développement d'un modèle\n",
    "* Extraction : de caractéristiques. Générer de nouvelles variables à partir d'infos cachées dans le dataset \n",
    "\n",
    "Les modules de scikit learn :\n",
    "* sklearn.preprocessing       : couvre Encodage, Normalisation,...\n",
    "* sklearn.input               : couvre l'imputation\n",
    "* sklearn.feature_selection   : couvre la sélection\n",
    "* sklearn.feature_extraction  : couvre l'extraction\n",
    "\n",
    "Ici on ne parle que du **module preprocessing**\n",
    "\n",
    "Question : on parle pas de filtrage ?"
   ]
  },
  {
   "cell_type": "markdown",
   "metadata": {},
   "source": [
    "## Transformer\n",
    "Dans le module sklearn.preprocessing il y a \n",
    "* des classes (commencent avec une majuscule). Des Transformers\n",
    "* des fonctions mathématique (sans majuscule)\n",
    "\n",
    "Les objets Transformers permettent de traiter toutes les données de manières similaires (demain avec un nouveau jeu, Train set vs Test set...)\n",
    "Les Transformers ont 2 méthodes\n",
    "* fit()           : développe une fonction de transformation à partir de X_Train\n",
    "* transform()     : applique la fonction de transformation sur les données présentées  \n",
    "* fit_transform() : fait les 2 à la fois\n"
   ]
  },
  {
   "cell_type": "code",
   "execution_count": 162,
   "metadata": {},
   "outputs": [
    {
     "data": {
      "text/html": [
       "<style>#sk-container-id-8 {color: black;}#sk-container-id-8 pre{padding: 0;}#sk-container-id-8 div.sk-toggleable {background-color: white;}#sk-container-id-8 label.sk-toggleable__label {cursor: pointer;display: block;width: 100%;margin-bottom: 0;padding: 0.3em;box-sizing: border-box;text-align: center;}#sk-container-id-8 label.sk-toggleable__label-arrow:before {content: \"▸\";float: left;margin-right: 0.25em;color: #696969;}#sk-container-id-8 label.sk-toggleable__label-arrow:hover:before {color: black;}#sk-container-id-8 div.sk-estimator:hover label.sk-toggleable__label-arrow:before {color: black;}#sk-container-id-8 div.sk-toggleable__content {max-height: 0;max-width: 0;overflow: hidden;text-align: left;background-color: #f0f8ff;}#sk-container-id-8 div.sk-toggleable__content pre {margin: 0.2em;color: black;border-radius: 0.25em;background-color: #f0f8ff;}#sk-container-id-8 input.sk-toggleable__control:checked~div.sk-toggleable__content {max-height: 200px;max-width: 100%;overflow: auto;}#sk-container-id-8 input.sk-toggleable__control:checked~label.sk-toggleable__label-arrow:before {content: \"▾\";}#sk-container-id-8 div.sk-estimator input.sk-toggleable__control:checked~label.sk-toggleable__label {background-color: #d4ebff;}#sk-container-id-8 div.sk-label input.sk-toggleable__control:checked~label.sk-toggleable__label {background-color: #d4ebff;}#sk-container-id-8 input.sk-hidden--visually {border: 0;clip: rect(1px 1px 1px 1px);clip: rect(1px, 1px, 1px, 1px);height: 1px;margin: -1px;overflow: hidden;padding: 0;position: absolute;width: 1px;}#sk-container-id-8 div.sk-estimator {font-family: monospace;background-color: #f0f8ff;border: 1px dotted black;border-radius: 0.25em;box-sizing: border-box;margin-bottom: 0.5em;}#sk-container-id-8 div.sk-estimator:hover {background-color: #d4ebff;}#sk-container-id-8 div.sk-parallel-item::after {content: \"\";width: 100%;border-bottom: 1px solid gray;flex-grow: 1;}#sk-container-id-8 div.sk-label:hover label.sk-toggleable__label {background-color: #d4ebff;}#sk-container-id-8 div.sk-serial::before {content: \"\";position: absolute;border-left: 1px solid gray;box-sizing: border-box;top: 0;bottom: 0;left: 50%;z-index: 0;}#sk-container-id-8 div.sk-serial {display: flex;flex-direction: column;align-items: center;background-color: white;padding-right: 0.2em;padding-left: 0.2em;position: relative;}#sk-container-id-8 div.sk-item {position: relative;z-index: 1;}#sk-container-id-8 div.sk-parallel {display: flex;align-items: stretch;justify-content: center;background-color: white;position: relative;}#sk-container-id-8 div.sk-item::before, #sk-container-id-8 div.sk-parallel-item::before {content: \"\";position: absolute;border-left: 1px solid gray;box-sizing: border-box;top: 0;bottom: 0;left: 50%;z-index: -1;}#sk-container-id-8 div.sk-parallel-item {display: flex;flex-direction: column;z-index: 1;position: relative;background-color: white;}#sk-container-id-8 div.sk-parallel-item:first-child::after {align-self: flex-end;width: 50%;}#sk-container-id-8 div.sk-parallel-item:last-child::after {align-self: flex-start;width: 50%;}#sk-container-id-8 div.sk-parallel-item:only-child::after {width: 0;}#sk-container-id-8 div.sk-dashed-wrapped {border: 1px dashed gray;margin: 0 0.4em 0.5em 0.4em;box-sizing: border-box;padding-bottom: 0.4em;background-color: white;}#sk-container-id-8 div.sk-label label {font-family: monospace;font-weight: bold;display: inline-block;line-height: 1.2em;}#sk-container-id-8 div.sk-label-container {text-align: center;}#sk-container-id-8 div.sk-container {/* jupyter's `normalize.less` sets `[hidden] { display: none; }` but bootstrap.min.css set `[hidden] { display: none !important; }` so we also need the `!important` here to be able to override the default hidden behavior on the sphinx rendered scikit-learn.org. See: https://github.com/scikit-learn/scikit-learn/issues/21755 */display: inline-block !important;position: relative;}#sk-container-id-8 div.sk-text-repr-fallback {display: none;}</style><div id=\"sk-container-id-8\" class=\"sk-top-container\"><div class=\"sk-text-repr-fallback\"><pre>LabelEncoder()</pre><b>In a Jupyter environment, please rerun this cell to show the HTML representation or trust the notebook. <br />On GitHub, the HTML representation is unable to render, please try loading this page with nbviewer.org.</b></div><div class=\"sk-container\" hidden><div class=\"sk-item\"><div class=\"sk-estimator sk-toggleable\"><input class=\"sk-toggleable__control sk-hidden--visually\" id=\"sk-estimator-id-8\" type=\"checkbox\" checked><label for=\"sk-estimator-id-8\" class=\"sk-toggleable__label sk-toggleable__label-arrow\">LabelEncoder</label><div class=\"sk-toggleable__content\"><pre>LabelEncoder()</pre></div></div></div></div></div>"
      ],
      "text/plain": [
       "LabelEncoder()"
      ]
     },
     "execution_count": 162,
     "metadata": {},
     "output_type": "execute_result"
    }
   ],
   "source": [
    "import numpy as np\n",
    "from sklearn.preprocessing import LabelEncoder\n",
    "\n",
    "X = np.array([\"Chat\",\n",
    "              \"Chien\",\n",
    "              \"Chat\",\n",
    "              \"Oiseau\"])\n",
    "transformer = LabelEncoder()\n",
    "transformer.fit(X)"
   ]
  },
  {
   "cell_type": "code",
   "execution_count": 163,
   "metadata": {},
   "outputs": [
    {
     "data": {
      "text/plain": [
       "array([0, 1, 0, 2])"
      ]
     },
     "execution_count": 163,
     "metadata": {},
     "output_type": "execute_result"
    }
   ],
   "source": [
    "transformer.transform(X)"
   ]
  },
  {
   "cell_type": "code",
   "execution_count": 164,
   "metadata": {},
   "outputs": [
    {
     "data": {
      "text/plain": [
       "array([0, 1, 0, 2], dtype=int64)"
      ]
     },
     "execution_count": 164,
     "metadata": {},
     "output_type": "execute_result"
    }
   ],
   "source": [
    "import numpy as np\n",
    "from sklearn.preprocessing import LabelEncoder\n",
    "\n",
    "X = np.array([\"Chat\",\n",
    "              \"Chien\",\n",
    "              \"Chat\",\n",
    "              \"Oiseau\"])\n",
    "transformer = LabelEncoder()\n",
    "transformer.fit_transform(X) # Fait les 2 opérations en 1"
   ]
  },
  {
   "cell_type": "markdown",
   "metadata": {},
   "source": [
    "De manière pratique :\n",
    "1. On divise le Dataset (X, y) et (XTrain, yTrain) et (XTest, yTest)\n",
    "1. Avec les données du Train set et fit_transform() on développe une fonction de transformation\n",
    "1. On présente les (XTrain, yTrain) qui sortent du Transformer à l'Estimator pour entrainer le modèle (fit())\n",
    "\n",
    "![Alt text](assets/tranformer1.png)\n",
    "\n",
    "1. Quand c'est fait\n",
    "1. On fait passer (XTest, yTest) via le Transformer et l'Estimator (predict()) pour sortir des prédictions \n",
    "\n",
    "![Alt text](assets/tranformer2.png)\n",
    "\n",
    "L'ensemble [Transformer] + [Estimator] constitue un Pipeline"
   ]
  },
  {
   "cell_type": "markdown",
   "metadata": {},
   "source": [
    "## Les Transformers du module sklearn.preprocessing\n",
    "\n",
    "![Alt text](assets/tranformer3.png)\n"
   ]
  },
  {
   "cell_type": "markdown",
   "metadata": {},
   "source": [
    "## Les Transformers d'Encodage\n",
    "* Faut convertir les données qualitatives en données quantitatives\n",
    "* C'est ça l'encodage\n",
    "* Il y a 5 Transformers d'Encodage\n",
    "  1. preprocessing.LabelEncoder()\n",
    "  1. preprocessing.OrdinalEncoder()\n",
    "  1. preprocessing.OneHotEncoder()\n",
    "  1. preprocessing.LabelBinarizer()\n",
    "  1. preprocessing.MultiLabelBinarizer()\n",
    "* Permettent 2 types d'encodage\n",
    "  1. Encodage Ordinal : chaque catégorie est associée à une unique valeur - LabelEncoder (dédié à y, 1 colonne) & OrdinalEncoder (multi colonnes toutes quantitatives)\n",
    "  1. Encodage One Hot  \n"
   ]
  },
  {
   "cell_type": "markdown",
   "metadata": {},
   "source": [
    "### Encodage Ordinal\n",
    "\n",
    "1. preprocessing.LabelEncoder() : pour y\n",
    "1. preprocessing.OrdinalEncoder() : pour X"
   ]
  },
  {
   "cell_type": "code",
   "execution_count": 165,
   "metadata": {},
   "outputs": [
    {
     "data": {
      "text/plain": [
       "array([0, 1, 0, 2], dtype=int64)"
      ]
     },
     "execution_count": 165,
     "metadata": {},
     "output_type": "execute_result"
    }
   ],
   "source": [
    "import numpy as np\n",
    "from sklearn.preprocessing import LabelEncoder\n",
    "\n",
    "y = np.array([\"Chat\",\n",
    "              \"Chien\",\n",
    "              \"Chat\",\n",
    "              \"Oiseau\"])\n",
    "encoder = LabelEncoder()\n",
    "encoder.fit_transform(y)"
   ]
  },
  {
   "cell_type": "markdown",
   "metadata": {},
   "source": [
    "* Pour certains Transformer, dont le preprocessing.LabelEncoder(), il existe une méthode inverse_transform().\n",
    "* Peut être utile pour la communication des résultats"
   ]
  },
  {
   "cell_type": "markdown",
   "metadata": {},
   "source": [
    "Pour encoder un tableau a plusieurs variables quantitatives on utilise OrdinalEncoder\n",
    "\n",
    "![Alt text](assets/tranformer4.png)"
   ]
  },
  {
   "cell_type": "code",
   "execution_count": 166,
   "metadata": {},
   "outputs": [
    {
     "data": {
      "text/plain": [
       "array([[0., 1.],\n",
       "       [1., 1.],\n",
       "       [0., 1.],\n",
       "       [2., 0.]])"
      ]
     },
     "execution_count": 166,
     "metadata": {},
     "output_type": "execute_result"
    }
   ],
   "source": [
    "import numpy as np\n",
    "from sklearn.preprocessing import OrdinalEncoder\n",
    "\n",
    "X = np.array([\n",
    "              [\"Chat\", \"Poils\"],\n",
    "              [\"Chien\", \"Poils\"],\n",
    "              [\"Chat\", \"Poils\"],\n",
    "              [\"Oiseau\", \"Plumes\"]\n",
    "            ])\n",
    "encoder = OrdinalEncoder()\n",
    "encoder.fit_transform(X)"
   ]
  },
  {
   "cell_type": "markdown",
   "metadata": {},
   "source": [
    "### Encodage One Hot\n",
    "\n",
    "1. preprocessing.LabelBinarizer() : pour vect y - penser à LabelEncode (une colonne y) mais en mode One Hot\n",
    "1. preprocessing.OneHotEncoder() : pour matrice X\n",
    "1. preprocessing.MultiLabelBinarizer() : pour ???"
   ]
  },
  {
   "cell_type": "markdown",
   "metadata": {},
   "source": [
    "* Attention car ici, après encodage, on avait Oiseau = 2 > Chien = 1 > Chat = 0\n",
    "* À part dans les arbres de décision qui ne sont pas sensibles aux relations d'ordre entre les données, on ne peut pas utiliser une telle labélisation.\n",
    "* L'encodage **One Hot** répond à ce problème : chaque catégorie/classe (chien, chat...) est représentée de façon binaire dans une colonne qui lui est propre. On a autant de colonnes que de classes. Chaque colonne ne comporte que des 0 et des 1\n",
    "* Les algos de Machine Learning ne peuvent plus comparer les \"valeurs\" chien, chat...\n",
    "\n",
    "![Alt text](assets/tranformer5.png)\n"
   ]
  },
  {
   "cell_type": "code",
   "execution_count": 167,
   "metadata": {},
   "outputs": [
    {
     "data": {
      "text/plain": [
       "array([[1, 0, 0],\n",
       "       [0, 1, 0],\n",
       "       [1, 0, 0],\n",
       "       [0, 0, 1]])"
      ]
     },
     "execution_count": 167,
     "metadata": {},
     "output_type": "execute_result"
    }
   ],
   "source": [
    "import numpy as np\n",
    "from sklearn.preprocessing import LabelBinarizer\n",
    "\n",
    "y = np.array([\"Chat\",\n",
    "              \"Chien\",\n",
    "              \"Chat\",\n",
    "              \"Oiseau\"])\n",
    "transformer = LabelBinarizer()\n",
    "transformer.fit_transform(y)  # Les colonnes sont dans l'ordre alpha des labels"
   ]
  },
  {
   "cell_type": "markdown",
   "metadata": {},
   "source": [
    "* **Note** si on a beaucoup de labels (100 villes par exemple)\n",
    "* On se retrouve avec un gros tableau 100x100 qui est optimisé (sparse matrix). \n",
    "* scikit learn utilise un format CSR  = compress sparse row.\n",
    "* Il y a donc un paramètre sparse_output lors de l'invocation du constructeur LabelBinarizer()"
   ]
  },
  {
   "cell_type": "code",
   "execution_count": 168,
   "metadata": {},
   "outputs": [
    {
     "data": {
      "text/plain": [
       "<4x3 sparse matrix of type '<class 'numpy.int32'>'\n",
       "\twith 4 stored elements in Compressed Sparse Row format>"
      ]
     },
     "execution_count": 168,
     "metadata": {},
     "output_type": "execute_result"
    }
   ],
   "source": [
    "import numpy as np\n",
    "from sklearn.preprocessing import LabelBinarizer\n",
    "\n",
    "y = np.array([\"Chat\",\n",
    "              \"Chien\",\n",
    "              \"Chat\",\n",
    "              \"Oiseau\"])\n",
    "transformer = LabelBinarizer(sparse_output=True)\n",
    "transformer.fit_transform(y)  # Les colonnes sont dans l'ordre alpha des labels"
   ]
  },
  {
   "cell_type": "markdown",
   "metadata": {},
   "source": [
    "Pour l'encoder OneHotEncoder() par défaut on a sparse_output=True\n",
    "\n",
    "![Alt text](assets/tranformer6.png)"
   ]
  },
  {
   "cell_type": "code",
   "execution_count": 169,
   "metadata": {},
   "outputs": [
    {
     "data": {
      "text/plain": [
       "<4x5 sparse matrix of type '<class 'numpy.float64'>'\n",
       "\twith 8 stored elements in Compressed Sparse Row format>"
      ]
     },
     "execution_count": 169,
     "metadata": {},
     "output_type": "execute_result"
    }
   ],
   "source": [
    "import numpy as np\n",
    "from sklearn.preprocessing import OneHotEncoder\n",
    "\n",
    "X = np.array([\n",
    "              [\"Chat\", \"Poils\"],\n",
    "              [\"Chien\", \"Poils\"],\n",
    "              [\"Chat\", \"Poils\"],\n",
    "              [\"Oiseau\", \"Plumes\"]\n",
    "            ])\n",
    "encoder = OneHotEncoder()\n",
    "encoder.fit_transform(X)"
   ]
  },
  {
   "cell_type": "markdown",
   "metadata": {},
   "source": [
    "TO DO : MultiLabelBinarizer\n",
    "\n",
    "### À retenir\n",
    "![Alt text](assets/tranformer7.png)\n",
    "\n"
   ]
  },
  {
   "cell_type": "markdown",
   "metadata": {},
   "source": [
    "## Les Transformers de Normalisation\n",
    "* Faut normaliser les données quantitatives\n",
    "* Les mettre sur une même échelle\n",
    "* Facilite l'apprentissage des modèles qui utilisent descente de gradient, calculs de distance, calcul de variance\n",
    "* Faut pas qu'une variable \"pèse\" plus que les autres\n",
    "\n",
    "Les 3 classes les plus connues\n",
    "1. preprocessing.MinMaxScaler()\n",
    "1. preprocessing.StandardScaler() \n",
    "1. preprocessing.RobustScaler() \n",
    "\n",
    "\n",
    "### Normalisation MinMaxScaler()\n",
    "$$X_{scaled} = \\frac{X-X_{min}}{X_{max}-X_{min}}$$ "
   ]
  },
  {
   "cell_type": "code",
   "execution_count": 170,
   "metadata": {},
   "outputs": [
    {
     "name": "stdout",
     "output_type": "stream",
     "text": [
      "<class 'numpy.ndarray'> 2 (3, 1)\n"
     ]
    },
    {
     "data": {
      "text/plain": [
       "array([[0. ],\n",
       "       [0.2],\n",
       "       [1. ]])"
      ]
     },
     "execution_count": 170,
     "metadata": {},
     "output_type": "execute_result"
    }
   ],
   "source": [
    "import numpy as np\n",
    "from sklearn.preprocessing import MinMaxScaler\n",
    "\n",
    "X = np.array([            # Une MATRICE 3 lignes et 1 colonne\n",
    "  [70],\n",
    "  [80],\n",
    "  [120]\n",
    "])\n",
    "print (type(X), X.ndim, X.shape)\n",
    "\n",
    "scaler = MinMaxScaler()\n",
    "scaler.fit_transform(X)\n"
   ]
  },
  {
   "cell_type": "code",
   "execution_count": 171,
   "metadata": {},
   "outputs": [
    {
     "name": "stdout",
     "output_type": "stream",
     "text": [
      "<class 'numpy.ndarray'> 2 (3, 1)\n",
      "<class 'numpy.ndarray'> 1 (3,)\n"
     ]
    }
   ],
   "source": [
    "import numpy as np\n",
    "\n",
    "X = np.array([            # Une MATRICE 3 lignes et 1 colonne\n",
    "  [70],\n",
    "  [80],\n",
    "  [120]\n",
    "])\n",
    "print (type(X), X.ndim, X.shape)\n",
    "\n",
    "Z = np.array([70, 80, 120 ])   # # Un VECTEUR à 3 éléments\n",
    "print (type(Z), Z.ndim, Z.shape)"
   ]
  },
  {
   "cell_type": "markdown",
   "metadata": {},
   "source": [
    "* Il faut bine voir qu'on ne perd pas d'information car on a gardé les proportions entre les valeurs. \n",
    "* Si on a de nouvelles valeurs faut commencer par les normaliser"
   ]
  },
  {
   "cell_type": "code",
   "execution_count": 172,
   "metadata": {},
   "outputs": [
    {
     "data": {
      "text/plain": [
       "array([[0.4]])"
      ]
     },
     "execution_count": 172,
     "metadata": {},
     "output_type": "execute_result"
    }
   ],
   "source": [
    "X_test = np.array([[90]])\n",
    "scaler.transform(X_test)"
   ]
  },
  {
   "cell_type": "code",
   "execution_count": 187,
   "metadata": {},
   "outputs": [
    {
     "data": {
      "image/png": "[encoded data removed]",
      "text/plain": [
       "<Figure size 640x480 with 1 Axes>"
      ]
     },
     "metadata": {},
     "output_type": "display_data"
    }
   ],
   "source": [
    "import matplotlib.pyplot as plt\n",
    "from sklearn.datasets import load_iris\n",
    "\n",
    "iris = load_iris()\n",
    "X = iris.data\n",
    "\n",
    "_ = plt.scatter(X[:,2], X[:, 3])\n",
    "#plt.show"
   ]
  },
  {
   "cell_type": "code",
   "execution_count": 174,
   "metadata": {},
   "outputs": [
    {
     "data": {
      "image/png": "[encoded data removed]",
      "text/plain": [
       "<Figure size 640x480 with 1 Axes>"
      ]
     },
     "metadata": {},
     "output_type": "display_data"
    }
   ],
   "source": [
    "import matplotlib.pyplot as plt\n",
    "from sklearn.datasets import load_iris\n",
    "\n",
    "iris = load_iris()\n",
    "X = iris.data\n",
    "\n",
    "fig, ax = plt.subplots()\n",
    "_ = ax.scatter(X[:,2], X[:, 3])"
   ]
  },
  {
   "cell_type": "code",
   "execution_count": 188,
   "metadata": {},
   "outputs": [
    {
     "data": {
      "image/png": "[encoded data removed]",
      "text/plain": [
       "<Figure size 640x480 with 1 Axes>"
      ]
     },
     "metadata": {},
     "output_type": "display_data"
    }
   ],
   "source": [
    "import matplotlib.pyplot as plt\n",
    "from sklearn.datasets import load_iris\n",
    "from sklearn.preprocessing import MinMaxScaler\n",
    "\n",
    "iris = load_iris()\n",
    "X = iris.data\n",
    "\n",
    "fig, ax = plt.subplots()\n",
    "ax.scatter(X[:,2], X[:, 3], label=\"raw\")\n",
    "\n",
    "X_minmax = MinMaxScaler().fit_transform(X)\n",
    "ax.scatter(X_minmax[:,2], X_minmax[:, 3], label=\"scaled\") # les données normalisées sont bien entre 0 et 1\n",
    "\n",
    "_ = ax.legend()"
   ]
  },
  {
   "cell_type": "markdown",
   "metadata": {},
   "source": [
    "### Normalisation preprocessing.StandardScaler()\n",
    "* Chaque variable aura une moyenne égale à 0 et un écart type de 1\n",
    "* $X_{scaled} = \\frac{X-\\mu_{min}}{\\sigma_X}$\n",
    "* Idéal pour modèles de type Support Vector Machine (SVR) ou Principal Component Analysis (??????)\n",
    "* On peut revenir aux données initiales avec inverse_transform()"
   ]
  },
  {
   "cell_type": "code",
   "execution_count": 176,
   "metadata": {},
   "outputs": [
    {
     "name": "stdout",
     "output_type": "stream",
     "text": [
      "<class 'numpy.ndarray'> 2 (3, 1)\n",
      "[[-0.9258201 ]\n",
      " [-0.46291005]\n",
      " [ 1.38873015]]\n",
      "-2.220446049250313e-16\n"
     ]
    }
   ],
   "source": [
    "from sklearn.preprocessing import StandardScaler\n",
    "X = np.array([\n",
    "  [70],\n",
    "  [80],\n",
    "  [120]\n",
    "])\n",
    "print (type(X), X.ndim, X.shape)\n",
    "\n",
    "scaler = StandardScaler()\n",
    "X_Transf = scaler.fit_transform(X)\n",
    "print(X_Transf)\n",
    "print (X_Transf[:, 0].sum()) # la somme est null"
   ]
  },
  {
   "cell_type": "code",
   "execution_count": 177,
   "metadata": {},
   "outputs": [
    {
     "data": {
      "text/plain": [
       "<matplotlib.legend.Legend at 0x1f86f3d6b90>"
      ]
     },
     "execution_count": 177,
     "metadata": {},
     "output_type": "execute_result"
    },
    {
     "data": {
      "image/png": "[encoded data removed]",
      "text/plain": [
       "<Figure size 640x480 with 1 Axes>"
      ]
     },
     "metadata": {},
     "output_type": "display_data"
    }
   ],
   "source": [
    "import matplotlib.pyplot as plt\n",
    "from sklearn.datasets import load_iris\n",
    "from sklearn.preprocessing import StandardScaler\n",
    "from sklearn.preprocessing import MinMaxScaler\n",
    "\n",
    "iris = load_iris()\n",
    "X = iris.data\n",
    "\n",
    "fig, ax = plt.subplots()\n",
    "_ = ax.scatter(X[:,2], X[:, 3], label=\"raw\")\n",
    "\n",
    "X_minmax = MinMaxScaler().fit_transform(X)\n",
    "ax.scatter(X_minmax[:,2], X_minmax[:, 3], label=\"min_max\") # les données normalisées sont bien entre 0 et 1\n",
    "\n",
    "X_sdt = StandardScaler().fit_transform(X)\n",
    "ax.scatter(X_sdt[:,2], X_sdt[:, 3], label=\"sdt\") \n",
    "\n",
    "\n",
    "ax.legend()"
   ]
  },
  {
   "cell_type": "markdown",
   "metadata": {},
   "source": [
    "* preprocessing.MinMaxScaler() et preprocessing.StandardScaler() sont cependant sensibles aux valeurs aberrantes\n",
    "* outliers\n",
    "\n",
    "Ci-dessous \n",
    "* on ajoute 10 outliers\n",
    "* dans le cas de MinMax toutes les valeurs \"normales\" se retrouvent compressées entre 0 et 0.06 (faut zoomer pour le voir)\n",
    "* idem pour les données issue de StandardScaler. Elles sont compressés pour réussir à sortir une moyenne à 0 et un écart type de 1"
   ]
  },
  {
   "cell_type": "code",
   "execution_count": 191,
   "metadata": {},
   "outputs": [
    {
     "name": "stdout",
     "output_type": "stream",
     "text": [
      "[[-1.84306955 -0.477974   -0.47965581  0.6203583 ]\n",
      " [ 0.69845715  0.00377089  0.93184837  0.33996498]\n",
      " [-0.01568211  0.16092817 -0.19065349 -0.39484951]\n",
      " [-0.26773354 -1.12801133  0.28044171 -0.99312361]\n",
      " [ 0.84163126 -0.24945858  0.04949498  0.49383678]\n",
      " [ 0.64331447 -1.57062341 -0.20690368  0.88017891]\n",
      " [-1.69810582  0.38728048 -2.25556423 -1.02250684]\n",
      " [ 0.03863055 -1.6567151  -0.98551074 -1.47183501]\n",
      " [ 1.64813493  0.16422776  0.56729028 -0.2226751 ]\n",
      " [-0.35343175 -1.61647419 -0.29183736 -0.76149221]]\n"
     ]
    },
    {
     "data": {
      "text/plain": [
       "<matplotlib.legend.Legend at 0x1f8705826e0>"
      ]
     },
     "execution_count": 191,
     "metadata": {},
     "output_type": "execute_result"
    },
    {
     "data": {
      "image/png": "[encoded data removed]",
      "text/plain": [
       "<Figure size 640x480 with 1 Axes>"
      ]
     },
     "metadata": {},
     "output_type": "display_data"
    }
   ],
   "source": [
    "import matplotlib.pyplot as plt\n",
    "from sklearn.datasets import load_iris\n",
    "from sklearn.preprocessing import StandardScaler\n",
    "from sklearn.preprocessing import MinMaxScaler\n",
    "\n",
    "iris = load_iris()\n",
    "X = iris.data\n",
    "\n",
    "# Matrice 10 lignes et 4 colonne de nb aléatoire entre -1 et 1 \n",
    "# tmp = np.random.randn(10, 4)\n",
    "# print(tmp)\n",
    "\n",
    "# Matrice 10 lignes et 4 colonne de 100\n",
    "# tmp = np.full((10, 4), 100)\n",
    "# print(tmp)\n",
    "\n",
    "outliers = np.full((10, 4), 100) + np.random.randn(10, 4) \n",
    "X = np.vstack((X, outliers))\n",
    "\n",
    "fig, ax = plt.subplots()\n",
    "_ = ax.scatter(X[:,2], X[:, 3], label=\"raw\")\n",
    "\n",
    "X_minmax = MinMaxScaler().fit_transform(X)\n",
    "ax.scatter(X_minmax[:,2], X_minmax[:, 3], label=\"min_max\") # les données normalisées sont bien entre 0 et 1\n",
    "\n",
    "X_sdt = StandardScaler().fit_transform(X)\n",
    "ax.scatter(X_sdt[:,2], X_sdt[:, 3], label=\"sdt\") \n",
    "\n",
    "\n",
    "ax.legend()"
   ]
  },
  {
   "cell_type": "markdown",
   "metadata": {},
   "source": [
    "### Conclusion partielle\n",
    "Il faut éviter d'utiliser preprocessing.MinMaxScaler() et preprocessing.StandardScaler() si il y a des outliers dans le Dataset\n",
    "\n",
    "### preprocessing.RobustScaler()\n",
    "* $X_{scaled} = \\frac{X - Median}{IQR}  $\n",
    "* où IQR (l'inter quartile) est la distance Q1-Q3\n",
    "\n",
    "![Alt text](assets/robust_scaler.png)\n",
    "\n",
    "* La médiane est beaucoup moins sensible aux outliers"
   ]
  },
  {
   "cell_type": "code",
   "execution_count": 179,
   "metadata": {},
   "outputs": [
    {
     "data": {
      "image/png": "[encoded data removed]",
      "text/plain": [
       "<Figure size 640x480 with 1 Axes>"
      ]
     },
     "metadata": {},
     "output_type": "display_data"
    }
   ],
   "source": [
    "import matplotlib.pyplot as plt\n",
    "import numpy as np\n",
    "from sklearn.datasets import load_iris\n",
    "from sklearn.preprocessing import StandardScaler\n",
    "from sklearn.preprocessing import MinMaxScaler\n",
    "from sklearn.preprocessing import RobustScaler\n",
    "\n",
    "iris = load_iris()\n",
    "X = iris.data\n",
    "\n",
    "outliers = np.full((10, 4), 100) + np.random.randn(10, 4)\n",
    "X = np.vstack((X, outliers))\n",
    "\n",
    "fig, ax = plt.subplots()\n",
    "_ = ax.scatter(X[:,2], X[:, 3], label=\"raw\")\n",
    "\n",
    "# X_minmax = MinMaxScaler().fit_transform(X)\n",
    "# ax.scatter(X_minmax[:,2], X_minmax[:, 3], label=\"min_max\") # les données normalisées sont bien entre 0 et 1\n",
    "\n",
    "# X_sdt = StandardScaler().fit_transform(X)\n",
    "# ax.scatter(X_sdt[:,2], X_sdt[:, 3], label=\"sdt\") \n",
    "\n",
    "X_rob = RobustScaler().fit_transform(X)\n",
    "ax.scatter(X_rob[:,2], X_rob[:, 3], label=\"robust\") \n",
    "\n",
    "_ = ax.legend()"
   ]
  },
  {
   "cell_type": "markdown",
   "metadata": {},
   "source": [
    "### Note\n",
    "* Il existe d'autres Transformers de normalisation\n",
    "* Attention preprocessing.Normalizer() qui normalise les lignes et PAS les colonnes (peut être utile an Natural Language Processing)"
   ]
  },
  {
   "cell_type": "markdown",
   "metadata": {},
   "source": [
    "## Les autres Transformers du module preprocessing\n",
    "1. Création de polynomes\n",
    "1. Transformations non linéaires\n",
    "1. Discrétisation\n",
    "1. Personnalisation\n",
    "\n",
    "### preprocessing.PolynomialFeatures()\n",
    "* Créer des variables polynomiales à partir des variables\n",
    "\n",
    "![Alt text](assets/polynomial_features.png)\n",
    "\n",
    "* La machine apprend un modèle du type $f(x) = ax^2 + bx + c$"
   ]
  },
  {
   "cell_type": "code",
   "execution_count": 180,
   "metadata": {},
   "outputs": [
    {
     "data": {
      "text/plain": [
       "array([[1.   , 1.   , 1.   , 1.   ],\n",
       "       [1.   , 2.   , 4.   , 8.   ],\n",
       "       [1.   , 0.5  , 0.25 , 0.125]])"
      ]
     },
     "execution_count": 180,
     "metadata": {},
     "output_type": "execute_result"
    }
   ],
   "source": [
    "from sklearn.preprocessing import PolynomialFeatures\n",
    "\n",
    "X = np.array([\n",
    "  [1],\n",
    "  [2],\n",
    "  [.5]\n",
    "])\n",
    "PolynomialFeatures(3).fit_transform(X)"
   ]
  },
  {
   "cell_type": "code",
   "execution_count": 181,
   "metadata": {},
   "outputs": [
    {
     "data": {
      "text/plain": [
       "[<matplotlib.lines.Line2D at 0x1f86ee52aa0>]"
      ]
     },
     "execution_count": 181,
     "metadata": {},
     "output_type": "execute_result"
    },
    {
     "data": {
      "image/png": "[encoded data removed]",
      "text/plain": [
       "<Figure size 640x480 with 1 Axes>"
      ]
     },
     "metadata": {},
     "output_type": "display_data"
    }
   ],
   "source": [
    "import matplotlib.pyplot as plt\n",
    "import numpy as np\n",
    "from sklearn.preprocessing import PolynomialFeatures\n",
    "from sklearn.linear_model import LinearRegression\n",
    "\n",
    "X = np.linspace(0, 4, 100). reshape(100, 1)\n",
    "y = X**2 + 5*np.cos(X) + np.random.randn(100, 1)\n",
    "\n",
    "fig, ax = plt.subplots()\n",
    "ax.scatter(X, y)\n",
    "\n",
    "model = LinearRegression().fit(X, y)\n",
    "y_pred = model.predict(X)\n",
    "ax.plot(X, y_pred, c='red', lw=3)\n",
    "\n",
    "X_poly = PolynomialFeatures(3).fit_transform(X)\n",
    "model2 = LinearRegression().fit(X_poly, y)\n",
    "y_pred2 = model2.predict(X_poly)\n",
    "_ = ax.plot(X, y_pred2, c='green', lw=3)\n"
   ]
  },
  {
   "cell_type": "markdown",
   "metadata": {},
   "source": [
    "* Si on a plusieurs variables le transformer PolynomialFeatures() créé toutes les combinaisons de variables possibles\n",
    "\n",
    "![Alt text](assets/polynomial_features2.png)\n",
    "\n",
    "* Exemple : combiner la surf d'un appartement avec le nb de pieces pour créer une nouvelle variable\n",
    "* ATTNETION : il faudra **normaliser** les données issues du PolynomialFeatures"
   ]
  },
  {
   "cell_type": "markdown",
   "metadata": {},
   "source": [
    "### Transformations non linéaires\n",
    "* preprocessing.PowerTransformer()\n",
    "* preprocessing.QuantileTransformer()\n",
    "\n",
    "* Ils vont engendrer une distribution plus normale ou gaussienne\n",
    "* Aide certains modèles \n",
    "* TO DO : revenir sur le sujet"
   ]
  },
  {
   "cell_type": "code",
   "execution_count": 182,
   "metadata": {},
   "outputs": [
    {
     "data": {
      "text/plain": [
       "<matplotlib.legend.Legend at 0x1f86edf2aa0>"
      ]
     },
     "execution_count": 182,
     "metadata": {},
     "output_type": "execute_result"
    },
    {
     "data": {
      "image/png": "[encoded data removed]",
      "text/plain": [
       "<Figure size 640x480 with 1 Axes>"
      ]
     },
     "metadata": {},
     "output_type": "display_data"
    }
   ],
   "source": [
    "import matplotlib.pyplot as plt\n",
    "import numpy as np\n",
    "from sklearn.preprocessing import PowerTransformer\n",
    "\n",
    "fig, ax = plt.subplots()\n",
    "\n",
    "np.random.seed(0)\n",
    "X = np.random.rand(100, 2) + np.random.randn(100, 2)\n",
    "ax.hist(X[:, 0], bins=50, alpha=0.7, label=\"raw\")\n",
    "\n",
    "X2 = PowerTransformer().fit_transform(X)\n",
    "ax.hist(X2[:, 0], bins=50, alpha=0.7, label=\"Power\")\n",
    "\n",
    "_ = ax.legend()"
   ]
  },
  {
   "cell_type": "markdown",
   "metadata": {},
   "source": [
    "### Transformers de discretisation\n",
    "1. preprocessing.Binarizer()\n",
    "1. preprocessing.KBinsDiscretizer()\n",
    "\n",
    "* Découper une variable continue en plrs parties\n",
    "* Permet de créer facilement des catégories dans une variable (age, salaire...)\n",
    "\n",
    "### preprocessing.Binarizer()\n",
    "* Fonction de seuil\n",
    "* ![Alt text](assets/binarizer.png)"
   ]
  },
  {
   "cell_type": "code",
   "execution_count": 183,
   "metadata": {},
   "outputs": [
    {
     "name": "stdout",
     "output_type": "stream",
     "text": [
      "[[0.        ]\n",
      " [0.55555556]\n",
      " [1.11111111]\n",
      " [1.66666667]\n",
      " [2.22222222]\n",
      " [2.77777778]\n",
      " [3.33333333]\n",
      " [3.88888889]\n",
      " [4.44444444]\n",
      " [5.        ]]\n"
     ]
    },
    {
     "data": {
      "text/plain": [
       "array([[0.        , 0.        ],\n",
       "       [0.55555556, 0.        ],\n",
       "       [1.11111111, 0.        ],\n",
       "       [1.66666667, 0.        ],\n",
       "       [2.22222222, 0.        ],\n",
       "       [2.77777778, 0.        ],\n",
       "       [3.33333333, 1.        ],\n",
       "       [3.88888889, 1.        ],\n",
       "       [4.44444444, 1.        ],\n",
       "       [5.        , 1.        ]])"
      ]
     },
     "execution_count": 183,
     "metadata": {},
     "output_type": "execute_result"
    }
   ],
   "source": [
    "import numpy as np\n",
    "from sklearn.preprocessing import Binarizer\n",
    "\n",
    "X = np.linspace(0, 5, 10).reshape(10,1) \n",
    "print(X)\n",
    "np.hstack((X, Binarizer(threshold=3).fit_transform(X)))"
   ]
  },
  {
   "cell_type": "markdown",
   "metadata": {},
   "source": [
    "### preprocessing.KBinsDiscretizer()\n",
    "* Au lieu de 2 catégories et un treshold on a \n"
   ]
  },
  {
   "cell_type": "code",
   "execution_count": 184,
   "metadata": {},
   "outputs": [
    {
     "name": "stdout",
     "output_type": "stream",
     "text": [
      "[[0.        ]\n",
      " [0.55555556]\n",
      " [1.11111111]\n",
      " [1.66666667]\n",
      " [2.22222222]\n",
      " [2.77777778]\n",
      " [3.33333333]\n",
      " [3.88888889]\n",
      " [4.44444444]\n",
      " [5.        ]]\n"
     ]
    },
    {
     "data": {
      "text/plain": [
       "array([[1., 0., 0., 0., 0., 0.],\n",
       "       [1., 0., 0., 0., 0., 0.],\n",
       "       [0., 1., 0., 0., 0., 0.],\n",
       "       [0., 1., 0., 0., 0., 0.],\n",
       "       [0., 0., 1., 0., 0., 0.],\n",
       "       [0., 0., 0., 1., 0., 0.],\n",
       "       [0., 0., 0., 1., 0., 0.],\n",
       "       [0., 0., 0., 0., 1., 0.],\n",
       "       [0., 0., 0., 0., 0., 1.],\n",
       "       [0., 0., 0., 0., 0., 1.]])"
      ]
     },
     "execution_count": 184,
     "metadata": {},
     "output_type": "execute_result"
    }
   ],
   "source": [
    "import numpy as np\n",
    "from sklearn.preprocessing import KBinsDiscretizer\n",
    "\n",
    "X = np.linspace(0, 5, 10).reshape(10,1) \n",
    "print(X)\n",
    "#np.hstack((X, Binarizer(threshold=3).fit_transform(X)))\n",
    "KBinsDiscretizer(n_bins=6).fit_transform(X).toarray()"
   ]
  },
  {
   "cell_type": "markdown",
   "metadata": {},
   "source": [
    "## Transformers personnalisable\n",
    "* preprocessing.FunctionTransformer()"
   ]
  },
  {
   "cell_type": "code",
   "execution_count": 185,
   "metadata": {},
   "outputs": [
    {
     "name": "stdout",
     "output_type": "stream",
     "text": [
      "[[1.        ]\n",
      " [1.44444444]\n",
      " [1.88888889]\n",
      " [2.33333333]\n",
      " [2.77777778]\n",
      " [3.22222222]\n",
      " [3.66666667]\n",
      " [4.11111111]\n",
      " [4.55555556]\n",
      " [5.        ]]\n"
     ]
    },
    {
     "data": {
      "text/plain": [
       "array([[0.69314718],\n",
       "       [0.89381788],\n",
       "       [1.06087196],\n",
       "       [1.2039728 ],\n",
       "       [1.32913595],\n",
       "       [1.44036158],\n",
       "       [1.54044504],\n",
       "       [1.63141682],\n",
       "       [1.71479843],\n",
       "       [1.79175947]])"
      ]
     },
     "execution_count": 185,
     "metadata": {},
     "output_type": "execute_result"
    }
   ],
   "source": [
    "import numpy as np\n",
    "import matplotlib.pyplot as plt\n",
    "from sklearn.preprocessing import FunctionTransformer\n",
    "\n",
    "X = np.linspace(1, 5, 10).reshape(10, 1) # .reshape(-1, 1)\n",
    "print(X)\n",
    "MyTransformer = FunctionTransformer(func = np.log1p, inverse_func=np.expm1)\n",
    "MyTransformer.fit_transform(X)"
   ]
  },
  {
   "cell_type": "markdown",
   "metadata": {},
   "source": [
    "## Conclusion sur les Transformers\n",
    "* LabelEncoder() OneHotEncoder() : pour les ops d'encodage\n",
    "* MinMaxScaler() StandardScaler() : pour les ops de normalisation\n",
    "* PolynomilaFeatures() \n",
    "\n",
    "![Alt text](assets/tranformer7.png)"
   ]
  },
  {
   "cell_type": "markdown",
   "metadata": {},
   "source": [
    "# La classe Pipeline\n",
    "\n",
    "On l'a déjà dit l'ensemble [Transformer] + [Estimator] constitue un Pipeline\n",
    "\n",
    "De manière pratique :\n",
    "1. On divise le Dataset (X, y) et (XTrain, yTrain) et (XTest, yTest)\n",
    "\n",
    "![Alt text](assets/tranformer1.png)\n",
    "\n",
    "1. Transformer\n",
    "    1. On instantie un Transformer (scaler = ...)\n",
    "    1. On entraine le Transformer (scaler.fit_transform()) avec XTrain\n",
    "\n",
    "1. Estimator\n",
    "    1. On instantie un Estimator (model = ...)\n",
    "    1. On entraine l'Estimator (model.fit()) avec XTrain_Transf (qui sortent du Transformer) et yTrain\n",
    "\n",
    "![Alt text](assets/tranformer2.png)\n",
    "\n",
    "1. Test\n",
    "    1. On fait passer dans les Transformer XTest et on recupère X_Test_Transf\n",
    "    1. On fait des prédictions model.predict() en passant X_Test_Transf\n",
    "\n",
    "\n",
    "\n"
   ]
  },
  {
   "cell_type": "code",
   "execution_count": 20,
   "metadata": {},
   "outputs": [
    {
     "name": "stdout",
     "output_type": "stream",
     "text": [
      "[1 1 2 0 2 1 0 2 0 1 1 1 2 2 0 0 2 2 0 0 1 2 0 1 1 2 1 1 1 2]\n",
      "0.9\n"
     ]
    }
   ],
   "source": [
    "from sklearn.model_selection import train_test_split\n",
    "from sklearn.linear_model import SGDClassifier\n",
    "from sklearn.datasets import load_iris\n",
    "from sklearn.preprocessing import StandardScaler\n",
    "\n",
    "iris = load_iris()\n",
    "X = iris.data\n",
    "y = iris.target\n",
    "\n",
    "# random_state permet d'avoir toujours les 2 mêmes jeux\n",
    "X_train, X_test, y_train, y_test = train_test_split (X, y, test_size=.2, random_state=5)\n",
    "\n",
    "# Transformer\n",
    "scaler = StandardScaler()                      # mu = 0 sigma = 1\n",
    "X_train_transf = scaler.fit_transform(X_train)\n",
    "\n",
    "# Estimator\n",
    "model = SGDClassifier(random_state=0)\n",
    "model.fit(X_train_transf, y_train)\n",
    "\n",
    "# Test\n",
    "X_test_transf = scaler.transform(X_test)\n",
    "\n",
    "print(model.predict(X_test_transf))\n",
    "\n",
    "print (model.score(X_test_transf, y_test))"
   ]
  },
  {
   "cell_type": "markdown",
   "metadata": {},
   "source": [
    "On peut faire plus simple en regroupant Transformer et Estimator dans un **Pipeline**.\n",
    "\n",
    "On a alors un Estimator Composite (composé de plusieurs éléments). Il dispose des méthodes :\n",
    "* fit()\n",
    "* predict()\n",
    "* score()"
   ]
  },
  {
   "cell_type": "code",
   "execution_count": 24,
   "metadata": {},
   "outputs": [
    {
     "name": "stdout",
     "output_type": "stream",
     "text": [
      "[1 1 2 0 2 1 0 2 0 1 1 1 2 2 0 0 2 2 0 0 1 2 0 1 1 2 1 1 1 2]\n",
      "0.9\n"
     ]
    }
   ],
   "source": [
    "from sklearn.model_selection import train_test_split\n",
    "from sklearn.linear_model import SGDClassifier\n",
    "from sklearn.datasets import load_iris\n",
    "from sklearn.preprocessing import StandardScaler\n",
    "\n",
    "from sklearn.pipeline import make_pipeline\n",
    "\n",
    "iris = load_iris()\n",
    "X = iris.data\n",
    "y = iris.target\n",
    "\n",
    "# random_state permet d'avoir toujours les 2 mêmes jeux\n",
    "X_train, X_test, y_train, y_test = train_test_split (X, y, test_size=.2, random_state=5)\n",
    "\n",
    "model = make_pipeline(StandardScaler(), SGDClassifier())\n",
    "model.fit(X_train, y_train)\n",
    "print(model.predict(X_test))\n",
    "\n",
    "print (model.score(X_test, y_test))"
   ]
  },
  {
   "cell_type": "markdown",
   "metadata": {},
   "source": [
    "* Simple à utiliser\n",
    "* Permet de faire de la cross-validation sur l'ensemble de la chaine\n",
    "* Si cross-validation alors GridSearchCV()\n",
    "\n",
    "On peut optimiser un Pipeline avec GridSearchCV. Il suffit de lui passer le pipeline, le nb de split et un dico de paramètres "
   ]
  },
  {
   "cell_type": "code",
   "execution_count": 34,
   "metadata": {},
   "outputs": [
    {
     "name": "stdout",
     "output_type": "stream",
     "text": [
      "{'polynomialfeatures__degree': 4, 'sgdclassifier__penalty': 'l2'}\n",
      "0.9916666666666667\n"
     ]
    }
   ],
   "source": [
    "from sklearn.model_selection import GridSearchCV\n",
    "from sklearn.model_selection import train_test_split\n",
    "from sklearn.linear_model import SGDClassifier\n",
    "from sklearn.datasets import load_iris\n",
    "from sklearn.preprocessing import StandardScaler\n",
    "\n",
    "iris = load_iris()\n",
    "X = iris.data\n",
    "y = iris.target\n",
    "\n",
    "# random_state permet d'avoir toujours les 2 mêmes jeux\n",
    "X_train, X_test, y_train, y_test = train_test_split (X, y, test_size=.2, random_state=5)\n",
    "\n",
    "\n",
    "model = make_pipeline(PolynomialFeatures(),\n",
    "                      StandardScaler(), \n",
    "                      SGDClassifier(random_state=0))\n",
    "\n",
    "# model.get_params() # permet d'inspecter le modele et ses paramètres\n",
    "\n",
    "params = {\n",
    "  \"polynomialfeatures__degree\" : [2, 3, 4],              # TO DO : Comment on trouve les paramètres et les valeurs ????\n",
    "  \"sgdclassifier__penalty\"     : [\"l1\", \"l2\"]            # Z! C'est \"Elle 1\" et \"Elle 2\" pas \"Onze\" et \"Douze\"\n",
    "}\n",
    "\n",
    "# 4 splits\n",
    "grid = GridSearchCV(model, param_grid = params, cv = 4)\n",
    "grid.fit(X_train, y_train)   # <-- Sort en erreur à ce niveau\n",
    "print(grid.best_params_)\n",
    "print(grid.best_score_)\n",
    "\n"
   ]
  },
  {
   "cell_type": "markdown",
   "metadata": {},
   "source": [
    "## TO DO\n",
    "Dans le ci-dessus, comment on trouve les paramètres et les valeurs ????"
   ]
  },
  {
   "cell_type": "markdown",
   "metadata": {},
   "source": [
    "Quel serait la performance du modèle sans preprocessing etc. ?"
   ]
  },
  {
   "cell_type": "code",
   "execution_count": 35,
   "metadata": {},
   "outputs": [
    {
     "data": {
      "text/plain": [
       "0.7666666666666667"
      ]
     },
     "execution_count": 35,
     "metadata": {},
     "output_type": "execute_result"
    }
   ],
   "source": [
    "iris = load_iris()\n",
    "X = iris.data\n",
    "y = iris.target\n",
    "\n",
    "X_train, X_test, y_train, y_test = train_test_split (X, y, test_size=.2, random_state=5)\n",
    "\n",
    "model = SGDClassifier(random_state=0)\n",
    "model.fit(X_train, y_train)\n",
    "model.score(X_test, y_test)\n"
   ]
  },
  {
   "cell_type": "markdown",
   "metadata": {},
   "source": [
    "* Sans pre-precessins : 76%\n",
    "* Avec pre-processing = 99 % (je suis un peu dubitatif)\n",
    "\n",
    "23% de différence. En data science c'est énorme\n",
    "\n",
    "Le plus important c'est la qualité et la quantité des données."
   ]
  }
 ],
 "metadata": {
  "kernelspec": {
   "display_name": "base",
   "language": "python",
   "name": "python3"
  },
  "language_info": {
   "codemirror_mode": {
    "name": "ipython",
    "version": 3
   },
   "file_extension": ".py",
   "mimetype": "text/x-python",
   "name": "python",
   "nbconvert_exporter": "python",
   "pygments_lexer": "ipython3",
   "version": "3.10.12"
  },
  "orig_nbformat": 4
 },
 "nbformat": 4,
 "nbformat_minor": 2
}
