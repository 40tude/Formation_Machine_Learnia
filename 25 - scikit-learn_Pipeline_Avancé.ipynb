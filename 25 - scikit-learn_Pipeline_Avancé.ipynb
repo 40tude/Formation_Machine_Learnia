{
 "cells": [
  {
   "cell_type": "markdown",
   "metadata": {},
   "source": [
    "# Pipeline avancé\n",
    "\n",
    "* Etre capable de traiter des Dataset hétérogènes avec des variables continues, discretes, des mots...\n",
    "\n",
    "Trois fonctions\n",
    "1. make_column_transformer\n",
    "1. make_colums_selector\n",
    "1. make_union\n",
    "\n"
   ]
  }
 ],
 "metadata": {
  "kernelspec": {
   "display_name": "base",
   "language": "python",
   "name": "python3"
  },
  "language_info": {
   "name": "python",
   "version": "3.10.12"
  },
  "orig_nbformat": 4
 },
 "nbformat": 4,
 "nbformat_minor": 2
}
