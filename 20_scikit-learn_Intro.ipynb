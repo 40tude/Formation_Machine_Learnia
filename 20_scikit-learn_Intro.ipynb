{
 "cells": [
  {
   "cell_type": "markdown",
   "metadata": {},
   "source": [
    "# Apprentissage supervisé\n",
    "\n",
    "## Intro\n",
    "\n",
    "![Alt text](assets/ML.png)\n",
    "\n",
    "Machine learning = Modèle à partir de données issues de l'expérience\n",
    "3 techniques\n",
    "1. Apprentissage supervisé\n",
    "1. Apprentissage non supervisé\n",
    "1. Apprentissage par renforcement (robotique, friandise chien)\n",
    "\n",
    "## Supervisé\n",
    "\n",
    "### Notes issues de la vidéo 3 de \"Initiation au Machine Learning\"\n",
    "Voir : https://youtu.be/K9z0OD22My4?si=KNAU-Ry6NBTSZ7VF\n",
    "\n",
    "4 étapes : \n",
    "1. Importer un dataset (X, y)\n",
    "    * y : Target\n",
    "    * X : Features\n",
    "    * On note 𝒎 le nombre d’exemples que contient le tableau (le nombre de lignes) \n",
    "    * On note 𝒏 le nombre de features (le nombre de colonnes de 𝑋).\n",
    "    * On note $x^{(i)}$ et $y^{(i)}$ la feature $x$ et la valeur $y$ de $i^{eme}$ échantillon\n",
    "1. Développer un Modèle\n",
    "    * Ses paramètres\n",
    "    * $\\theta$ le vecteur des paramètres\n",
    "    * En régression linéaire, $y=f(X)$ devient en notation matricielle $F(X)=X * \\theta$\n",
    "1. Etablir la fonction coût $J(\\theta)$\n",
    "1. Algorithme de minimisation de la fonction coût\n",
    "\n",
    "\n",
    "\n",
    "### Intro\n",
    "Les données sont caractérisées par des features $x_i$ (variables: hauteur, largeur...)\n",
    "\n",
    "Les données sont annotées par un label/target $y$ (une autre variable : une pomme, une poire...)\n",
    "\n",
    "L'objectif : prédire $y$ en fonction des $x_i$ qu'on va lui donner\n",
    "\n",
    "1. On commence par alimenter la machine en données. C'est un dataset\n",
    "1. On spécifie le type de modèle à utiliser : linéaire, polynomial, arbre, réseau de neurones. On précise aussi les paramètres du modèle (hyperparamètres)\n",
    "1. Phase d'entrainement : Le soft utilise un algo d'optimisation pour minimiser les erreurs, minimiser la fonction coût. Il détermine les valeurs optimales des paramètres du modèle\n",
    "1. On peut alors utiliser le modèle pour faire des prédictions\n",
    "\n",
    "Donc :\n",
    "1. dataset\n",
    "1. Modèle et ses paramètres\n",
    "1. Entrainement (minimiser la fonction coût)\n",
    "1. Prédictions\n",
    "\n",
    "\n",
    "Avec l'apprentissage supervisé on peut résoudre des problèmes : \n",
    "1. de régression avec des valeurs de y continues (1.8, 42...)\n",
    "1. de classification avec des valeurs de y qui sont discètes (pomme, poire, spam...)\n",
    "\n",
    "## scikit-learn\n",
    "* Les algos de machine learning sont déjà dans scikit-learn\n",
    "* Ont tous la même architecture\n",
    "\n",
    "Pour faire un modèle\n",
    "1. On instancie un **estimateur** et on lui passe les hyperparamètres\n",
    "1. Ensuite on entraine, évalue et utilise le modèle avec toujours les 3 mêmes méthodes\n",
    "\n",
    "```python\n",
    "model = LinearRegression()\n",
    "model.fit(X, y)       # entraiement\n",
    "model.score(X, y)     # évaluation\n",
    "model.predict(X, y)   # utilisation\n",
    "\n",
    "\n",
    "model = DecisionTreeClassifier()\n",
    "model.fit(X, y)\n",
    "model.score(X, y)\n",
    "model.predict(X, y)\n",
    "```\n",
    "\n",
    "X et y sont 2 tableaux numpy. Ils ont 2 dimensions :\n",
    "* X : [n_samples, n_features]\n",
    "* y : [n_samples, n_target=1] ⚡Faut penser à vérifier les dimensions\n",
    " \n",
    "Les modèles sont dans le user guide : https://scikit-learn.org/stable/user_guide.html#user-guide\n",
    "\n",
    "Il faut importer les modules correspondant et **PAS** sklearn\n",
    "\n",
    "```python\n",
    "from sklearn import linear_model\n",
    "from sklearn.kernel_ridge import KernelRidge\n",
    "...\n",
    "```\n"
   ]
  },
  {
   "cell_type": "markdown",
   "metadata": {},
   "source": [
    "La carte pour trouver le bon estimateur : https://scikit-learn.org/stable/tutorial/machine_learning_map/index.html"
   ]
  },
  {
   "cell_type": "markdown",
   "metadata": {},
   "source": [
    "![Alt text](assets/sklearn.png)"
   ]
  },
  {
   "cell_type": "markdown",
   "metadata": {},
   "source": [
    "## Régression"
   ]
  },
  {
   "cell_type": "code",
   "execution_count": 4,
   "metadata": {},
   "outputs": [],
   "source": [
    "import numpy as np\n",
    "import matplotlib.pyplot as plt"
   ]
  },
  {
   "cell_type": "code",
   "execution_count": 5,
   "metadata": {},
   "outputs": [
    {
     "name": "stdout",
     "output_type": "stream",
     "text": [
      "<class 'numpy.ndarray'> 2 (100, 1)\n",
      "<class 'numpy.ndarray'> 2 (100, 1)\n"
     ]
    }
   ],
   "source": [
    "# 1 - dataset\n",
    "\n",
    "np.random.seed(0)\n",
    "m = 100                                  # 100 samples\n",
    "X = np.linspace(0, 10, m).reshape(m, 1)  # Vérifier les dimensions des matrices. 2 dim\n",
    "print(type(X), X.ndim, X.shape, )\n",
    "y = X + np.random.randn(m, 1)            # Vérifier les dimensions des matrices. 2 dim \n",
    "print(type(y), y.ndim, y.shape)"
   ]
  },
  {
   "cell_type": "code",
   "execution_count": 6,
   "metadata": {},
   "outputs": [
    {
     "data": {
      "image/png": "[encoded data removed]",
      "text/plain": [
       "<Figure size 640x480 with 1 Axes>"
      ]
     },
     "metadata": {},
     "output_type": "display_data"
    }
   ],
   "source": [
    "fig, ax = plt.subplots()\n",
    "_ = ax.scatter(X, y)"
   ]
  },
  {
   "cell_type": "markdown",
   "metadata": {},
   "source": [
    "On va utiliser un modèle de régression linéaire. Donc faut importer le bon module.\n"
   ]
  },
  {
   "cell_type": "code",
   "execution_count": 11,
   "metadata": {},
   "outputs": [
    {
     "data": {
      "text/plain": [
       "0.8881140743377214"
      ]
     },
     "execution_count": 11,
     "metadata": {},
     "output_type": "execute_result"
    }
   ],
   "source": [
    "# 2 - Modèle\n",
    "from sklearn.linear_model import LinearRegression\n",
    "model = LinearRegression() # pas de paramètres, moindre carré, lire la doc\n",
    " # https://scikit-learn.org/stable/modules/generated/sklearn.linear_model.LinearRegression.html#sklearn.linear_model.LinearRegression\n",
    "\n",
    "# On trouve la même chose avec les 2 lignes ci-dessous\n",
    "# from sklearn.linear_model import SGDRegressor \n",
    "# model = SGDRegressor(max_iter=1000, eta0=0.001)\n",
    "\n",
    "# 3 - Entrainement\n",
    "model.fit(X, y)            # https://scikit-learn.org/stable/modules/linear_model.html\n",
    "model.score(X, y)"
   ]
  },
  {
   "cell_type": "markdown",
   "metadata": {},
   "source": [
    "Ici le 88% c'est en fait le coef de détermination ($R^2$)\n",
    "\n",
    "Le $R^2$ de la méthode des moindres carrés."
   ]
  },
  {
   "cell_type": "code",
   "execution_count": 77,
   "metadata": {},
   "outputs": [
    {
     "data": {
      "text/plain": [
       "array([[0.20847145],\n",
       "       [0.30647825],\n",
       "       [0.40448505],\n",
       "       [0.50249185],\n",
       "       [0.60049865],\n",
       "       [0.69850544],\n",
       "       [0.79651224],\n",
       "       [0.89451904],\n",
       "       [0.99252584],\n",
       "       [1.09053264],\n",
       "       [1.18853944],\n",
       "       [1.28654624],\n",
       "       [1.38455304],\n",
       "       [1.48255984],\n",
       "       [1.58056664],\n",
       "       [1.67857344],\n",
       "       [1.77658024],\n",
       "       [1.87458704],\n",
       "       [1.97259384],\n",
       "       [2.07060064],\n",
       "       [2.16860743],\n",
       "       [2.26661423],\n",
       "       [2.36462103],\n",
       "       [2.46262783],\n",
       "       [2.56063463],\n",
       "       [2.65864143],\n",
       "       [2.75664823],\n",
       "       [2.85465503],\n",
       "       [2.95266183],\n",
       "       [3.05066863],\n",
       "       [3.14867543],\n",
       "       [3.24668223],\n",
       "       [3.34468903],\n",
       "       [3.44269583],\n",
       "       [3.54070263],\n",
       "       [3.63870942],\n",
       "       [3.73671622],\n",
       "       [3.83472302],\n",
       "       [3.93272982],\n",
       "       [4.03073662],\n",
       "       [4.12874342],\n",
       "       [4.22675022],\n",
       "       [4.32475702],\n",
       "       [4.42276382],\n",
       "       [4.52077062],\n",
       "       [4.61877742],\n",
       "       [4.71678422],\n",
       "       [4.81479102],\n",
       "       [4.91279782],\n",
       "       [5.01080462],\n",
       "       [5.10881142],\n",
       "       [5.20681821],\n",
       "       [5.30482501],\n",
       "       [5.40283181],\n",
       "       [5.50083861],\n",
       "       [5.59884541],\n",
       "       [5.69685221],\n",
       "       [5.79485901],\n",
       "       [5.89286581],\n",
       "       [5.99087261],\n",
       "       [6.08887941],\n",
       "       [6.18688621],\n",
       "       [6.28489301],\n",
       "       [6.38289981],\n",
       "       [6.48090661],\n",
       "       [6.57891341],\n",
       "       [6.6769202 ],\n",
       "       [6.774927  ],\n",
       "       [6.8729338 ],\n",
       "       [6.9709406 ],\n",
       "       [7.0689474 ],\n",
       "       [7.1669542 ],\n",
       "       [7.264961  ],\n",
       "       [7.3629678 ],\n",
       "       [7.4609746 ],\n",
       "       [7.5589814 ],\n",
       "       [7.6569882 ],\n",
       "       [7.754995  ],\n",
       "       [7.8530018 ],\n",
       "       [7.9510086 ],\n",
       "       [8.0490154 ],\n",
       "       [8.14702219],\n",
       "       [8.24502899],\n",
       "       [8.34303579],\n",
       "       [8.44104259],\n",
       "       [8.53904939],\n",
       "       [8.63705619],\n",
       "       [8.73506299],\n",
       "       [8.83306979],\n",
       "       [8.93107659],\n",
       "       [9.02908339],\n",
       "       [9.12709019],\n",
       "       [9.22509699],\n",
       "       [9.32310379],\n",
       "       [9.42111059],\n",
       "       [9.51911739],\n",
       "       [9.61712419],\n",
       "       [9.71513098],\n",
       "       [9.81313778],\n",
       "       [9.91114458]])"
      ]
     },
     "execution_count": 77,
     "metadata": {},
     "output_type": "execute_result"
    }
   ],
   "source": [
    "# 4 - Prédiction\n",
    "model.predict(X)"
   ]
  },
  {
   "cell_type": "code",
   "execution_count": 78,
   "metadata": {},
   "outputs": [
    {
     "data": {
      "image/png": "[encoded data removed]",
      "text/plain": [
       "<Figure size 640x480 with 1 Axes>"
      ]
     },
     "metadata": {},
     "output_type": "display_data"
    }
   ],
   "source": [
    "predictions = model.predict(X)\n",
    "\n",
    "fig, ax = plt.subplots()\n",
    "_ = ax.scatter(X, y)\n",
    "_ = ax.plot(X, predictions, c='r')"
   ]
  },
  {
   "cell_type": "markdown",
   "metadata": {},
   "source": [
    "Si les données d'entrées ne sont plus lineaires ça marche plus.\n",
    "Faut choisir un autre modèle."
   ]
  },
  {
   "cell_type": "code",
   "execution_count": 12,
   "metadata": {},
   "outputs": [],
   "source": [
    "y = X*X + np.random.randn(m, 1)            # X est de dim m x 1. On génère une matrice random normlised de m x 1 (2 dim) "
   ]
  },
  {
   "cell_type": "code",
   "execution_count": 25,
   "metadata": {},
   "outputs": [
    {
     "name": "stdout",
     "output_type": "stream",
     "text": [
      "0.9986728980106913\n"
     ]
    },
    {
     "data": {
      "image/png": "[encoded data removed]",
      "text/plain": [
       "<Figure size 640x480 with 1 Axes>"
      ]
     },
     "metadata": {},
     "output_type": "display_data"
    }
   ],
   "source": [
    "from sklearn.svm import SVR\n",
    "model = SVR(C=100)                       # support vector machine ????. Pour C faire des test 1, 10, 100\n",
    "\n",
    "#model.fit(X, y)       \n",
    "model.fit(X, y.ravel())       \n",
    "\n",
    "print(model.score(X, y))\n",
    "predictions = model.predict(X)\n",
    "\n",
    "fig, ax = plt.subplots()\n",
    "_ = ax.scatter(X, y)\n",
    "_ = ax.plot(X, predictions, c='r')"
   ]
  },
  {
   "cell_type": "markdown",
   "metadata": {},
   "source": [
    "## Classification\n",
    "Classification KNN"
   ]
  },
  {
   "cell_type": "code",
   "execution_count": 26,
   "metadata": {},
   "outputs": [],
   "source": [
    "import pandas as pd\n",
    "import seaborn as sns"
   ]
  },
  {
   "cell_type": "code",
   "execution_count": 27,
   "metadata": {},
   "outputs": [
    {
     "name": "stdout",
     "output_type": "stream",
     "text": [
      "<class 'pandas.core.frame.DataFrame'>\n",
      "2\n",
      "(891, 15)\n"
     ]
    },
    {
     "data": {
      "text/html": [
       "<div>\n",
       "<style scoped>\n",
       "    .dataframe tbody tr th:only-of-type {\n",
       "        vertical-align: middle;\n",
       "    }\n",
       "\n",
       "    .dataframe tbody tr th {\n",
       "        vertical-align: top;\n",
       "    }\n",
       "\n",
       "    .dataframe thead th {\n",
       "        text-align: right;\n",
       "    }\n",
       "</style>\n",
       "<table border=\"1\" class=\"dataframe\">\n",
       "  <thead>\n",
       "    <tr style=\"text-align: right;\">\n",
       "      <th></th>\n",
       "      <th>survived</th>\n",
       "      <th>pclass</th>\n",
       "      <th>sex</th>\n",
       "      <th>age</th>\n",
       "      <th>sibsp</th>\n",
       "      <th>parch</th>\n",
       "      <th>fare</th>\n",
       "      <th>embarked</th>\n",
       "      <th>class</th>\n",
       "      <th>who</th>\n",
       "      <th>adult_male</th>\n",
       "      <th>deck</th>\n",
       "      <th>embark_town</th>\n",
       "      <th>alive</th>\n",
       "      <th>alone</th>\n",
       "    </tr>\n",
       "  </thead>\n",
       "  <tbody>\n",
       "    <tr>\n",
       "      <th>0</th>\n",
       "      <td>0</td>\n",
       "      <td>3</td>\n",
       "      <td>male</td>\n",
       "      <td>22.0</td>\n",
       "      <td>1</td>\n",
       "      <td>0</td>\n",
       "      <td>7.2500</td>\n",
       "      <td>S</td>\n",
       "      <td>Third</td>\n",
       "      <td>man</td>\n",
       "      <td>True</td>\n",
       "      <td>NaN</td>\n",
       "      <td>Southampton</td>\n",
       "      <td>no</td>\n",
       "      <td>False</td>\n",
       "    </tr>\n",
       "    <tr>\n",
       "      <th>1</th>\n",
       "      <td>1</td>\n",
       "      <td>1</td>\n",
       "      <td>female</td>\n",
       "      <td>38.0</td>\n",
       "      <td>1</td>\n",
       "      <td>0</td>\n",
       "      <td>71.2833</td>\n",
       "      <td>C</td>\n",
       "      <td>First</td>\n",
       "      <td>woman</td>\n",
       "      <td>False</td>\n",
       "      <td>C</td>\n",
       "      <td>Cherbourg</td>\n",
       "      <td>yes</td>\n",
       "      <td>False</td>\n",
       "    </tr>\n",
       "    <tr>\n",
       "      <th>2</th>\n",
       "      <td>1</td>\n",
       "      <td>3</td>\n",
       "      <td>female</td>\n",
       "      <td>26.0</td>\n",
       "      <td>0</td>\n",
       "      <td>0</td>\n",
       "      <td>7.9250</td>\n",
       "      <td>S</td>\n",
       "      <td>Third</td>\n",
       "      <td>woman</td>\n",
       "      <td>False</td>\n",
       "      <td>NaN</td>\n",
       "      <td>Southampton</td>\n",
       "      <td>yes</td>\n",
       "      <td>True</td>\n",
       "    </tr>\n",
       "    <tr>\n",
       "      <th>3</th>\n",
       "      <td>1</td>\n",
       "      <td>1</td>\n",
       "      <td>female</td>\n",
       "      <td>35.0</td>\n",
       "      <td>1</td>\n",
       "      <td>0</td>\n",
       "      <td>53.1000</td>\n",
       "      <td>S</td>\n",
       "      <td>First</td>\n",
       "      <td>woman</td>\n",
       "      <td>False</td>\n",
       "      <td>C</td>\n",
       "      <td>Southampton</td>\n",
       "      <td>yes</td>\n",
       "      <td>False</td>\n",
       "    </tr>\n",
       "    <tr>\n",
       "      <th>4</th>\n",
       "      <td>0</td>\n",
       "      <td>3</td>\n",
       "      <td>male</td>\n",
       "      <td>35.0</td>\n",
       "      <td>0</td>\n",
       "      <td>0</td>\n",
       "      <td>8.0500</td>\n",
       "      <td>S</td>\n",
       "      <td>Third</td>\n",
       "      <td>man</td>\n",
       "      <td>True</td>\n",
       "      <td>NaN</td>\n",
       "      <td>Southampton</td>\n",
       "      <td>no</td>\n",
       "      <td>True</td>\n",
       "    </tr>\n",
       "  </tbody>\n",
       "</table>\n",
       "</div>"
      ],
      "text/plain": [
       "   survived  pclass     sex   age  sibsp  parch     fare embarked  class  \\\n",
       "0         0       3    male  22.0      1      0   7.2500        S  Third   \n",
       "1         1       1  female  38.0      1      0  71.2833        C  First   \n",
       "2         1       3  female  26.0      0      0   7.9250        S  Third   \n",
       "3         1       1  female  35.0      1      0  53.1000        S  First   \n",
       "4         0       3    male  35.0      0      0   8.0500        S  Third   \n",
       "\n",
       "     who  adult_male deck  embark_town alive  alone  \n",
       "0    man        True  NaN  Southampton    no  False  \n",
       "1  woman       False    C    Cherbourg   yes  False  \n",
       "2  woman       False  NaN  Southampton   yes   True  \n",
       "3  woman       False    C  Southampton   yes  False  \n",
       "4    man        True  NaN  Southampton    no   True  "
      ]
     },
     "execution_count": 27,
     "metadata": {},
     "output_type": "execute_result"
    }
   ],
   "source": [
    "titanic = sns.load_dataset(\"titanic\")\n",
    "print(type(titanic))\n",
    "print(titanic.ndim)\n",
    "print(titanic.shape)\n",
    "titanic.head()\n"
   ]
  },
  {
   "cell_type": "code",
   "execution_count": 28,
   "metadata": {},
   "outputs": [
    {
     "data": {
      "text/html": [
       "<div>\n",
       "<style scoped>\n",
       "    .dataframe tbody tr th:only-of-type {\n",
       "        vertical-align: middle;\n",
       "    }\n",
       "\n",
       "    .dataframe tbody tr th {\n",
       "        vertical-align: top;\n",
       "    }\n",
       "\n",
       "    .dataframe thead th {\n",
       "        text-align: right;\n",
       "    }\n",
       "</style>\n",
       "<table border=\"1\" class=\"dataframe\">\n",
       "  <thead>\n",
       "    <tr style=\"text-align: right;\">\n",
       "      <th></th>\n",
       "      <th>survived</th>\n",
       "      <th>pclass</th>\n",
       "      <th>sex</th>\n",
       "      <th>age</th>\n",
       "    </tr>\n",
       "  </thead>\n",
       "  <tbody>\n",
       "    <tr>\n",
       "      <th>0</th>\n",
       "      <td>0</td>\n",
       "      <td>3</td>\n",
       "      <td>0</td>\n",
       "      <td>22.0</td>\n",
       "    </tr>\n",
       "    <tr>\n",
       "      <th>1</th>\n",
       "      <td>1</td>\n",
       "      <td>1</td>\n",
       "      <td>1</td>\n",
       "      <td>38.0</td>\n",
       "    </tr>\n",
       "    <tr>\n",
       "      <th>2</th>\n",
       "      <td>1</td>\n",
       "      <td>3</td>\n",
       "      <td>1</td>\n",
       "      <td>26.0</td>\n",
       "    </tr>\n",
       "    <tr>\n",
       "      <th>3</th>\n",
       "      <td>1</td>\n",
       "      <td>1</td>\n",
       "      <td>1</td>\n",
       "      <td>35.0</td>\n",
       "    </tr>\n",
       "    <tr>\n",
       "      <th>4</th>\n",
       "      <td>0</td>\n",
       "      <td>3</td>\n",
       "      <td>0</td>\n",
       "      <td>35.0</td>\n",
       "    </tr>\n",
       "  </tbody>\n",
       "</table>\n",
       "</div>"
      ],
      "text/plain": [
       "   survived  pclass  sex   age\n",
       "0         0       3    0  22.0\n",
       "1         1       1    1  38.0\n",
       "2         1       3    1  26.0\n",
       "3         1       1    1  35.0\n",
       "4         0       3    0  35.0"
      ]
     },
     "execution_count": 28,
     "metadata": {},
     "output_type": "execute_result"
    }
   ],
   "source": [
    "titanic = titanic[[\"survived\", \"pclass\", \"sex\", \"age\"]]\n",
    "titanic.dropna(axis=0, inplace=True)                              # On supprime les lignes\n",
    "titanic[\"sex\"].replace([\"male\", \"female\"], [0,1], inplace=True)\n",
    "titanic.head()\n",
    "                  "
   ]
  },
  {
   "cell_type": "markdown",
   "metadata": {},
   "source": [
    "Objectif : on va développer un modèle de classification pour déterminer qui va survivre ou non.\n",
    "\n",
    "Utiliser la carte de sklearn pour choisir un modèle de classification. https://scikit-learn.org/stable/tutorial/machine_learning_map/index.html\n",
    "\n",
    "\n",
    "Ici on prend KNeighbors Classifier"
   ]
  },
  {
   "cell_type": "code",
   "execution_count": 34,
   "metadata": {},
   "outputs": [],
   "source": [
    "from sklearn.neighbors import KNeighborsClassifier"
   ]
  },
  {
   "cell_type": "code",
   "execution_count": 35,
   "metadata": {},
   "outputs": [],
   "source": [
    "model = KNeighborsClassifier()"
   ]
  },
  {
   "cell_type": "markdown",
   "metadata": {},
   "source": [
    "* Faut entrainer le modèle (model.fit()) sur des données. On a pas de données X et y. \n",
    "* On a juste un dataframe Pandas. \n",
    "* Va falloir diviser le dataframe et 2 tableaux numpy."
   ]
  },
  {
   "cell_type": "code",
   "execution_count": 36,
   "metadata": {},
   "outputs": [],
   "source": [
    "y = titanic[\"survived\"]\n",
    "X = titanic.drop(\"survived\", axis=1)    # axis=1 => colonne. On vire la colonne survived"
   ]
  },
  {
   "cell_type": "markdown",
   "metadata": {},
   "source": [
    "X et y sont des Dataframes, donc ce sont des tableaux numpy utilisables avec sklearn."
   ]
  },
  {
   "cell_type": "code",
   "execution_count": 37,
   "metadata": {},
   "outputs": [
    {
     "name": "stdout",
     "output_type": "stream",
     "text": [
      "<class 'pandas.core.frame.DataFrame'>\n",
      "(714, 3)\n",
      "   pclass  sex   age\n",
      "0       3    0  22.0\n",
      "1       1    1  38.0\n",
      "2       3    1  26.0\n",
      "3       1    1  35.0\n",
      "4       3    0  35.0\n",
      "<class 'pandas.core.series.Series'>\n",
      "(714,)\n",
      "0    0\n",
      "1    1\n",
      "2    1\n",
      "3    1\n",
      "4    0\n",
      "Name: survived, dtype: int64\n"
     ]
    }
   ],
   "source": [
    "print(type(X))\n",
    "print(X.shape)\n",
    "print(X.head())\n",
    "\n",
    "print(type(y))\n",
    "print(y.shape)\n",
    "print(y.head())"
   ]
  },
  {
   "cell_type": "code",
   "execution_count": 38,
   "metadata": {},
   "outputs": [
    {
     "data": {
      "text/plain": [
       "0.8417366946778712"
      ]
     },
     "execution_count": 38,
     "metadata": {},
     "output_type": "execute_result"
    }
   ],
   "source": [
    "# Je ne suis pas sûr de comprendre comment fit() utilise toutes les colonnes de X\n",
    "# Comment il fait pour tenir compte que certaines features sont peut être plus importantes que d'autres etc.\n",
    "model.fit(X, y)\n",
    "model.score(X, y)"
   ]
  },
  {
   "cell_type": "markdown",
   "metadata": {},
   "source": [
    "Cela veut dire que dans 84% du temps le modèle effectue une bonne prédiction."
   ]
  },
  {
   "cell_type": "code",
   "execution_count": 89,
   "metadata": {},
   "outputs": [
    {
     "data": {
      "text/plain": [
       "array([0, 1, 0, 1, 0, 0, 0, 1, 1, 1, 1, 0, 0, 1, 1, 0, 0, 0, 0, 1, 1, 0,\n",
       "       0, 0, 0, 0, 1, 0, 0, 0, 1, 0, 1, 1, 1, 0, 0, 0, 1, 1, 0, 0, 0, 1,\n",
       "       0, 0, 1, 0, 0, 1, 0, 1, 0, 0, 1, 0, 0, 0, 0, 1, 0, 0, 0, 1, 1, 0,\n",
       "       0, 1, 0, 0, 0, 0, 0, 0, 0, 0, 1, 0, 1, 0, 0, 0, 0, 0, 0, 0, 1, 0,\n",
       "       0, 1, 0, 0, 0, 0, 0, 0, 0, 1, 0, 0, 0, 0, 0, 0, 0, 1, 0, 0, 1, 1,\n",
       "       0, 0, 1, 1, 0, 0, 0, 1, 0, 0, 0, 0, 1, 0, 0, 0, 1, 0, 0, 1, 0, 0,\n",
       "       0, 0, 0, 0, 0, 0, 1, 0, 0, 0, 0, 0, 0, 0, 1, 1, 0, 0, 0, 1, 0, 1,\n",
       "       1, 1, 1, 0, 1, 0, 0, 0, 0, 0, 0, 0, 1, 0, 0, 1, 0, 0, 1, 1, 0, 1,\n",
       "       0, 0, 0, 0, 0, 0, 0, 0, 0, 1, 0, 0, 1, 0, 0, 1, 0, 0, 0, 0, 0, 0,\n",
       "       0, 1, 1, 0, 0, 0, 0, 0, 0, 1, 1, 1, 1, 0, 0, 0, 0, 0, 1, 1, 0, 1,\n",
       "       1, 0, 0, 0, 0, 0, 0, 0, 0, 0, 0, 0, 0, 1, 1, 1, 0, 1, 0, 0, 1, 0,\n",
       "       0, 1, 1, 0, 1, 1, 1, 1, 0, 0, 0, 1, 0, 1, 1, 0, 1, 1, 1, 1, 0, 1,\n",
       "       0, 1, 0, 0, 0, 0, 1, 0, 0, 1, 1, 0, 0, 0, 1, 1, 1, 0, 0, 0, 0, 0,\n",
       "       1, 1, 0, 0, 0, 0, 0, 0, 1, 0, 0, 0, 1, 0, 1, 1, 0, 0, 1, 1, 0, 1,\n",
       "       0, 0, 1, 1, 1, 0, 0, 1, 1, 0, 0, 0, 0, 1, 0, 0, 0, 0, 0, 0, 0, 1,\n",
       "       0, 1, 0, 1, 1, 0, 0, 0, 0, 1, 0, 1, 1, 0, 1, 1, 0, 0, 1, 0, 1, 0,\n",
       "       0, 1, 0, 0, 1, 1, 1, 0, 1, 0, 0, 0, 1, 0, 0, 1, 1, 0, 0, 1, 0, 0,\n",
       "       1, 0, 1, 1, 1, 0, 0, 0, 0, 0, 0, 1, 0, 1, 1, 0, 0, 0, 0, 0, 0, 1,\n",
       "       1, 0, 0, 0, 1, 1, 0, 1, 0, 0, 0, 1, 1, 0, 0, 1, 1, 0, 1, 0, 1, 0,\n",
       "       1, 0, 0, 0, 0, 0, 1, 0, 1, 1, 1, 0, 0, 0, 0, 0, 1, 0, 1, 1, 0, 0,\n",
       "       1, 0, 1, 1, 1, 0, 0, 0, 0, 0, 0, 0, 1, 1, 0, 0, 1, 1, 0, 1, 1, 0,\n",
       "       1, 1, 0, 0, 0, 0, 1, 0, 0, 0, 0, 1, 1, 0, 1, 0, 0, 1, 1, 1, 0, 0,\n",
       "       1, 0, 0, 1, 0, 1, 0, 0, 0, 0, 0, 0, 1, 0, 0, 0, 0, 0, 1, 0, 0, 0,\n",
       "       0, 1, 0, 1, 1, 0, 0, 0, 1, 0, 0, 0, 0, 0, 1, 0, 0, 0, 0, 0, 0, 0,\n",
       "       0, 1, 0, 0, 0, 0, 0, 0, 0, 1, 1, 0, 0, 0, 0, 0, 0, 0, 1, 0, 1, 0,\n",
       "       0, 0, 0, 1, 0, 1, 1, 0, 0, 0, 0, 1, 0, 1, 1, 1, 0, 0, 0, 1, 1, 0,\n",
       "       1, 0, 0, 0, 1, 0, 1, 0, 0, 1, 0, 0, 0, 0, 0, 1, 1, 1, 0, 0, 0, 0,\n",
       "       1, 0, 0, 1, 0, 0, 0, 1, 1, 0, 0, 0, 1, 0, 0, 1, 0, 1, 0, 0, 0, 0,\n",
       "       1, 1, 0, 1, 1, 1, 1, 0, 0, 0, 0, 0, 0, 0, 0, 0, 0, 1, 0, 0, 0, 0,\n",
       "       1, 0, 1, 1, 0, 1, 0, 0, 1, 0, 0, 0, 1, 0, 0, 0, 0, 0, 1, 1, 0, 1,\n",
       "       0, 1, 0, 1, 1, 0, 0, 1, 0, 0, 0, 0, 1, 0, 0, 0, 0, 0, 0, 0, 0, 1,\n",
       "       1, 0, 1, 0, 1, 0, 0, 1, 0, 1, 1, 0, 0, 0, 0, 1, 0, 1, 1, 0, 0, 1,\n",
       "       1, 0, 1, 0, 0, 0, 0, 1, 1, 0], dtype=int64)"
      ]
     },
     "execution_count": 89,
     "metadata": {},
     "output_type": "execute_result"
    }
   ],
   "source": [
    "model.predict(X) # on passe au modèle les passagers qu'il a utilisé pour paramétrer le modèle\n",
    "                 # 1 = survécu\n",
    "                 # 0 = mort\n",
    "\n",
    "                 # Comment on pourrait comparer ces prédictions avec la réalité ? "
   ]
  },
  {
   "cell_type": "code",
   "execution_count": 55,
   "metadata": {},
   "outputs": [
    {
     "name": "stdout",
     "output_type": "stream",
     "text": [
      "<class 'numpy.ndarray'> 1 (714,)\n",
      "<class 'numpy.ndarray'> 1 (714,)\n"
     ]
    },
    {
     "data": {
      "text/plain": [
       "<matplotlib.collections.PathCollection at 0x1978de91ea0>"
      ]
     },
     "execution_count": 55,
     "metadata": {},
     "output_type": "execute_result"
    },
    {
     "data": {
      "image/png": "[encoded data removed]",
      "text/plain": [
       "<Figure size 640x480 with 1 Axes>"
      ]
     },
     "metadata": {},
     "output_type": "display_data"
    }
   ],
   "source": [
    "# Comment on pourrait comparer ces prédictions avec la réalité ? \n",
    "\n",
    "temp = model.predict(X)\n",
    "print(type(temp), temp.ndim, temp.shape)\n",
    "\n",
    "MyDiff = temp - y\n",
    "\n",
    "MyX = np.linspace(0, 714, 714)\n",
    "print(type(MyX), MyX.ndim, MyX.shape)\n",
    "\n",
    "fig, ax = plt.subplots()\n",
    "ax.scatter(MyX, MyDiff)"
   ]
  },
  {
   "cell_type": "code",
   "execution_count": 77,
   "metadata": {},
   "outputs": [],
   "source": [
    "def survie(model, pclass = 3, sex = 0, age = 26):\n",
    "  Bob  = np.array([pclass, sex, age]).reshape(1, 3) # ATTENTION l'ordre est important \n",
    "                                                  # Il faut s'assurer que le tableau a bien 2 dimmensions\n",
    "                                                  # => reshape()\n",
    "  print(model.predict(Bob))\n",
    "  #print(model.predict_proba(Bob)) # affiche la proba d'appartenir à la classe de ceux qui vont mourrir\n",
    "                                # et la proba d'appartenir à la classe de ceux qui vont survivre\n",
    "                                # permet de comprendre la décision"
   ]
  },
  {
   "cell_type": "code",
   "execution_count": 79,
   "metadata": {},
   "outputs": [
    {
     "name": "stdout",
     "output_type": "stream",
     "text": [
      "[0]\n"
     ]
    },
    {
     "name": "stderr",
     "output_type": "stream",
     "text": [
      "c:\\Users\\phili\\anaconda3\\lib\\site-packages\\sklearn\\base.py:464: UserWarning: X does not have valid feature names, but KNeighborsClassifier was fitted with feature names\n",
      "  warnings.warn(\n"
     ]
    }
   ],
   "source": [
    "survie(model)\n",
    "#survie(model, age=59, pclass=2)\n",
    "\n"
   ]
  },
  {
   "cell_type": "markdown",
   "metadata": {},
   "source": [
    "## Exo\n",
    "Ecrire une routine pour choisir le meilleur paramètre à passer à "
   ]
  },
  {
   "cell_type": "code",
   "execution_count": 92,
   "metadata": {},
   "outputs": [
    {
     "name": "stdout",
     "output_type": "stream",
     "text": [
      "Best score = 0.874 for index : 1\n"
     ]
    },
    {
     "data": {
      "image/png": "[encoded data removed]",
      "text/plain": [
       "<Figure size 640x480 with 1 Axes>"
      ]
     },
     "metadata": {},
     "output_type": "display_data"
    }
   ],
   "source": [
    "from sklearn.neighbors import KNeighborsClassifier\n",
    "\n",
    "y = titanic[\"survived\"]\n",
    "X = titanic.drop(\"survived\", axis=1)\n",
    "\n",
    "score = []\n",
    "best_score = 0\n",
    "for n in range(1, 30):\n",
    "  model = KNeighborsClassifier(n_neighbors=n)\n",
    "  model.fit(X, y)\n",
    "  s = model.score(X, y)\n",
    "  score.append(s)\n",
    "  if(best_score<s):\n",
    "    best_score=s\n",
    "    best_index=n\n",
    "\n",
    "print(f\"Best score = {best_score:.3f} for index : {best_index}\")\n",
    "fig, ax = plt.subplots()\n",
    "_ = ax.plot(score)\n",
    "\n",
    "\n",
    "  "
   ]
  }
 ],
 "metadata": {
  "kernelspec": {
   "display_name": "base",
   "language": "python",
   "name": "python3"
  },
  "language_info": {
   "codemirror_mode": {
    "name": "ipython",
    "version": 3
   },
   "file_extension": ".py",
   "mimetype": "text/x-python",
   "name": "python",
   "nbconvert_exporter": "python",
   "pygments_lexer": "ipython3",
   "version": "3.10.12"
  },
  "orig_nbformat": 4
 },
 "nbformat": 4,
 "nbformat_minor": 2
}
